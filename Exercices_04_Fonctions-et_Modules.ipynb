{
  "nbformat": 4,
  "nbformat_minor": 5,
  "metadata": {
    "kernelspec": {
      "display_name": "Python 3",
      "language": "python",
      "name": "python3"
    },
    "language_info": {
      "codemirror_mode": {
        "name": "ipython",
        "version": 3
      },
      "file_extension": ".py",
      "mimetype": "text/x-python",
      "name": "python",
      "nbconvert_exporter": "python",
      "pygments_lexer": "ipython3",
      "version": "3.7.3"
    },
    "colab": {
      "name": "Exercices_04_Fonctions.ipynb",
      "provenance": [],
      "include_colab_link": true
    }
  },
  "cells": [
    {
      "cell_type": "markdown",
      "metadata": {
        "id": "view-in-github",
        "colab_type": "text"
      },
      "source": [
        "<a href=\"https://colab.research.google.com/github/ai-technipreneurs/programmation-python-pratique-travaux-pratiques/blob/main/Exercices_04_Fonctions-et_Modules.ipynb\" target=\"_parent\"><img src=\"https://colab.research.google.com/assets/colab-badge.svg\" alt=\"Open In Colab\"/></a>"
      ]
    },
    {
      "cell_type": "markdown",
      "metadata": {
        "id": "QYZn2ujP9tcA"
      },
      "source": [
        "\n",
        "# <center> <b> <span style=\"color:orange;\"> Programmation Python pratique </span> </b></center>\n",
        "\n",
        "### <center> <b> <span style=\"color:green;\">Travaux Pratiques</span> </b></center>\n",
        "\n",
        "\n",
        "****\n",
        "\n",
        "## <center> <b> <span style=\"color:blue;\"> Fonctions </span> </b></center>"
      ],
      "id": "QYZn2ujP9tcA"
    },
    {
      "cell_type": "markdown",
      "metadata": {
        "id": "iMDzVKcl9tcE"
      },
      "source": [
        "#### **Exercice 00:**  \n",
        "> **Écrire une fonction `cube` qui retourne le cube de son argument.**"
      ],
      "id": "iMDzVKcl9tcE"
    },
    {
      "cell_type": "code",
      "metadata": {
        "id": "EbftYW1V9tcF"
      },
      "source": [
        ""
      ],
      "id": "EbftYW1V9tcF",
      "execution_count": null,
      "outputs": []
    },
    {
      "cell_type": "markdown",
      "metadata": {
        "id": "m1ac89qS9tcH"
      },
      "source": [
        "#### **Exercice 01:**  \n",
        "> **Déclarez une fonction `ajouter_deux_nombres`. Elle prend deux paramètres et renvoie leur somme.**"
      ],
      "id": "m1ac89qS9tcH"
    },
    {
      "cell_type": "code",
      "metadata": {
        "id": "E_AgGmNy9tcH"
      },
      "source": [
        ""
      ],
      "id": "E_AgGmNy9tcH",
      "execution_count": null,
      "outputs": []
    },
    {
      "cell_type": "markdown",
      "metadata": {
        "id": "PKjvAV4y9tcJ"
      },
      "source": [
        "#### **Exercice 02:**  \n",
        "> **L'aire d'un cercle se calcule comme suit : aire = pi x r x r avec pi=3,14. Écrivez une fonction `aire_du_cercle` qui prend le rayon en argument et calcule l'aire du cercle correspodant.**"
      ],
      "id": "PKjvAV4y9tcJ"
    },
    {
      "cell_type": "code",
      "metadata": {
        "id": "AxGzHKXX9tcL"
      },
      "source": [
        ""
      ],
      "id": "AxGzHKXX9tcL",
      "execution_count": null,
      "outputs": []
    },
    {
      "cell_type": "markdown",
      "metadata": {
        "id": "6OBRL3oj9tcL"
      },
      "source": [
        "#### **Exercice 03:**  \n",
        "> **La température en °C peut être convertie en °F à l'aide de cette formule : °F = (°C x 9/5) + 32. Écrivez une fonction `convert_celsius_en_fahrenheit` qui convertit les °C en °F**."
      ],
      "id": "6OBRL3oj9tcL"
    },
    {
      "cell_type": "code",
      "metadata": {
        "id": "LpDPEBxn9tcN"
      },
      "source": [
        ""
      ],
      "id": "LpDPEBxn9tcN",
      "execution_count": null,
      "outputs": []
    },
    {
      "cell_type": "markdown",
      "metadata": {
        "id": "rJRPsZ2h9tcP"
      },
      "source": [
        "#### **Exercice 04:** \n",
        ">**Écrire une fonction somme avec un argument « tuple de longueur variable » qui calcule la somme des nombres contenus dans le tuple.Tester cette fonction par des appels avec différents tuples d’entiers ou de flottants.**"
      ],
      "id": "rJRPsZ2h9tcP"
    },
    {
      "cell_type": "code",
      "metadata": {
        "id": "7qn8Czdc9tcP"
      },
      "source": [
        ""
      ],
      "id": "7qn8Czdc9tcP",
      "execution_count": null,
      "outputs": []
    },
    {
      "cell_type": "markdown",
      "metadata": {
        "id": "kls1kYNh9tcR"
      },
      "source": [
        "#### **Exercice 05:** \n",
        ">**Ecrire `somme_liste` qui calcule la somme des nombres contenus dans une liste.Tester cette fonction par des appels avec différents listes d’entiers ou de flottants.**"
      ],
      "id": "kls1kYNh9tcR"
    },
    {
      "cell_type": "code",
      "metadata": {
        "id": "khKG2ee49tcS"
      },
      "source": [
        ""
      ],
      "id": "khKG2ee49tcS",
      "execution_count": null,
      "outputs": []
    },
    {
      "cell_type": "markdown",
      "metadata": {
        "id": "l4gQECfk9tcS"
      },
      "source": [
        "#### **Exercice 06:** \n",
        ">**Écrire une fonction somme qui  prend en argument un entier $n$ et retourne la somme  des $n$-prémiers entiers naturels.**"
      ],
      "id": "l4gQECfk9tcS"
    },
    {
      "cell_type": "code",
      "metadata": {
        "id": "KfbcZiGS9tcT"
      },
      "source": [
        ""
      ],
      "id": "KfbcZiGS9tcT",
      "execution_count": null,
      "outputs": []
    },
    {
      "cell_type": "markdown",
      "metadata": {
        "id": "tK9EsjZf9tcU"
      },
      "source": [
        "#### **Exercice 07:** \n",
        ">**Écrire une fonction `nom` qui demande à l'utilisateur d'entrer son nom ensuite son prénom et affiche son prénom suivit de son nom.**"
      ],
      "id": "tK9EsjZf9tcU"
    },
    {
      "cell_type": "code",
      "metadata": {
        "id": "REF7Fa939tcW"
      },
      "source": [
        ""
      ],
      "id": "REF7Fa939tcW",
      "execution_count": null,
      "outputs": []
    },
    {
      "cell_type": "markdown",
      "metadata": {
        "id": "YSwrwcEz9tcX"
      },
      "source": [
        "#### **Exercice 08:** \n",
        ">**Écrire une fonction `nom` qui demande à l'utilisateur d'entrer son nom ensuite son prénom et affiche son prénom suivit de son nom.**"
      ],
      "id": "YSwrwcEz9tcX"
    },
    {
      "cell_type": "code",
      "metadata": {
        "id": "mRk-8h1P9tcZ"
      },
      "source": [
        ""
      ],
      "id": "mRk-8h1P9tcZ",
      "execution_count": null,
      "outputs": []
    },
    {
      "cell_type": "markdown",
      "metadata": {
        "id": "VYtzHXAd9tck"
      },
      "source": [
        "#### **Exercice 09:** \n",
        ">**Ecris une fonction `Maximum` qui renvoie le minimum de trois nombres.**"
      ],
      "id": "VYtzHXAd9tck"
    },
    {
      "cell_type": "code",
      "metadata": {
        "id": "A4tQ-qQQ9tcl"
      },
      "source": [
        ""
      ],
      "id": "A4tQ-qQQ9tcl",
      "execution_count": null,
      "outputs": []
    },
    {
      "cell_type": "markdown",
      "metadata": {
        "id": "gTpTAnGm9tcm"
      },
      "source": [
        "#### **Exercice 10:**\n",
        ">**Soit $f(x)=ax^2+bx+c$ un trinôme du second degré.**\n",
        " 1. **Ecris une fonction `Discriminant` qui calcule son discriminant.**\n",
        " 2. **Ecris ensuite une fonction `existence_des_racines_du_trinome` qui discute suivant les valeurs du discriminant, l'existence de ses racines.** \n"
      ],
      "id": "gTpTAnGm9tcm"
    },
    {
      "cell_type": "markdown",
      "metadata": {
        "id": "WgJ06GHA9tcn"
      },
      "source": [
        "#### **Exercice 11:**\n",
        ">**Ecris une fonction qui affiche le reste de la division euclidienne d'un entier naturel $a$ par un entier naturel $b$**.\n"
      ],
      "id": "WgJ06GHA9tcn"
    },
    {
      "cell_type": "code",
      "metadata": {
        "id": "S1uM-Jca9tcn"
      },
      "source": [
        ""
      ],
      "id": "S1uM-Jca9tcn",
      "execution_count": null,
      "outputs": []
    },
    {
      "cell_type": "markdown",
      "metadata": {
        "id": "dtC_cOVJ9tco"
      },
      "source": [
        "#### **Exercice 12:**\n",
        ">**Ecris une fonction `terme_suite_geometrique` qui affiche le n-ième terme d'une suite géométrique $(v_n)$ de premier terme $v_0$ et de raison $q$. Teste ce programme pour $v_0=2, q=3$ et $n=4$.**"
      ],
      "id": "dtC_cOVJ9tco"
    },
    {
      "cell_type": "code",
      "metadata": {
        "id": "TeLDRV8N9tco"
      },
      "source": [
        ""
      ],
      "id": "TeLDRV8N9tco",
      "execution_count": null,
      "outputs": []
    },
    {
      "cell_type": "markdown",
      "metadata": {
        "id": "GrmGuHwu9tco"
      },
      "source": [
        "#### **Exercice 13:**\n",
        ">**Écris une fonction `merci` prend en paramètre un `nom` et renvoie le message \"Merci pour votre présence à cet atelier,`nom`.**\n"
      ],
      "id": "GrmGuHwu9tco"
    },
    {
      "cell_type": "code",
      "metadata": {
        "id": "NJ0z0iht9tco"
      },
      "source": [
        ""
      ],
      "id": "NJ0z0iht9tco",
      "execution_count": null,
      "outputs": []
    },
    {
      "cell_type": "markdown",
      "metadata": {
        "id": "T3jopRLc9tco"
      },
      "source": [
        "#### **Exercice 14:**\n",
        ">**Écris une fonction `ma_suite` qui définit la suite $(u_n)$ telle que  $$u_{n}=\\frac{2n^2+3n-1}{n+6}.$$\n",
        "Affiche son 5e terme.**\n"
      ],
      "id": "T3jopRLc9tco"
    },
    {
      "cell_type": "code",
      "metadata": {
        "id": "P1l82riw9tcp"
      },
      "source": [
        ""
      ],
      "id": "P1l82riw9tcp",
      "execution_count": null,
      "outputs": []
    },
    {
      "cell_type": "markdown",
      "metadata": {
        "id": "SIizzU_A9tcp"
      },
      "source": [
        "\n",
        "\n",
        "<center> <b> <span style=\"color:orange;\"> 🎉 FÉLICITATIONS ! 🎉 </span> </b></center>"
      ],
      "id": "SIizzU_A9tcp"
    }
  ]
}