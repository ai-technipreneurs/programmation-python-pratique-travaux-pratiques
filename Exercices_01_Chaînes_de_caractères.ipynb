{
  "nbformat": 4,
  "nbformat_minor": 0,
  "metadata": {
    "kernelspec": {
      "display_name": "Python 3",
      "language": "python",
      "name": "python3"
    },
    "language_info": {
      "codemirror_mode": {
        "name": "ipython",
        "version": 3
      },
      "file_extension": ".py",
      "mimetype": "text/x-python",
      "name": "python",
      "nbconvert_exporter": "python",
      "pygments_lexer": "ipython3",
      "version": "3.7.3"
    },
    "colab": {
      "name": "Exercices_01_Chaînes-de-caractères.ipynb",
      "provenance": [],
      "include_colab_link": true
    }
  },
  "cells": [
    {
      "cell_type": "markdown",
      "metadata": {
        "id": "view-in-github",
        "colab_type": "text"
      },
      "source": [
        "<a href=\"https://colab.research.google.com/github/ai-technipreneurs/programmation-python-pratique-travaux-pratiques/blob/main/Exercices_01_Cha%C3%AEnes_de_caract%C3%A8res.ipynb\" target=\"_parent\"><img src=\"https://colab.research.google.com/assets/colab-badge.svg\" alt=\"Open In Colab\"/></a>"
      ]
    },
    {
      "cell_type": "markdown",
      "metadata": {
        "id": "RAWKZD-l8aDi"
      },
      "source": [
        "\n",
        "# <center> <b> <span style=\"color:orange;\"> Programmation Python pratique </span> </b></center>\n",
        "\n",
        "### <center> <b> <span style=\"color:green;\">Travaux Pratiques</span> </b></center>\n",
        "\n",
        "\n",
        "****\n",
        "\n",
        "## <center> <b> <span style=\"color:blue;\"> Chaînes de caractères  </span> </b></center>"
      ]
    },
    {
      "cell_type": "markdown",
      "metadata": {
        "id": "MqQawZ_q8aDl"
      },
      "source": [
        "#### **Exercice 00:**  \n",
        "> **Concaténation des chaînes 'Trente', 'Jours', 'De', 'Python' en une seule chaîne, 'Trente Jours De Python'.**"
      ]
    },
    {
      "cell_type": "code",
      "metadata": {
        "id": "_nco70S-8aDo"
      },
      "source": [
        ""
      ],
      "execution_count": null,
      "outputs": []
    },
    {
      "cell_type": "markdown",
      "metadata": {
        "id": "UdYv8mBJ8aDt"
      },
      "source": [
        "#### **Exercice 01:**  \n",
        "> **Concaténer la chaîne 'Codage', 'Pour', 'Tous' en une seule chaîne, 'Codage Pour Tous'.**"
      ]
    },
    {
      "cell_type": "code",
      "metadata": {
        "id": "Q-YHaNPp8aDx"
      },
      "source": [
        ""
      ],
      "execution_count": null,
      "outputs": []
    },
    {
      "cell_type": "markdown",
      "metadata": {
        "id": "CBYAS7io8aD0"
      },
      "source": [
        "#### **Exercice 02:**  \n",
        " 1. **Déclarer une variable nommée `compagnie` et lui attribuer une valeur initiale `Coding For All`.**\n",
        " 2. **Imprimez la variable `compagnie` en utilisant `print()`.**"
      ]
    },
    {
      "cell_type": "code",
      "metadata": {
        "id": "crZdf6LS8aD2"
      },
      "source": [
        ""
      ],
      "execution_count": null,
      "outputs": []
    },
    {
      "cell_type": "markdown",
      "metadata": {
        "id": "Sw7GIfGV8aD3"
      },
      "source": [
        "#### **Exercice 03:** \n",
        " 1. **Imprimez la longueur de la chaîne de la société en utilisant la méthode `len()` et la fonction `print()`.**\n",
        " 2. **Changez tous les caractères en lettres majuscules à l'aide de la méthode `upper()`.**\n",
        " 3. **Changez tous les caractères en minuscules à l'aide de la méthode `lower()`.**\n",
        " 4. **Utilisez les méthodes `capitalize()`, `title()`, `swapcase()` pour formater la valeur de la chaîne `Coding For All\"`.**\n",
        " "
      ]
    },
    {
      "cell_type": "code",
      "metadata": {
        "id": "rFntZB6J8aD6"
      },
      "source": [
        ""
      ],
      "execution_count": null,
      "outputs": []
    },
    {
      "cell_type": "markdown",
      "metadata": {
        "id": "QOvVg49v8aD9"
      },
      "source": [
        "#### **Exercice 04:** \n",
        " 1. **Remplacez le mot **Coding** dans la chaîne `Coding For All` par Python.**\n",
        " 2. **Divisez la chaîne `Coding For All` en utilisant l'espace comme séparateur `(split())`.**\n",
        " 3. **Quel est le caractère à l'indice 0 dans la chaîne `Coding For All`?**\n",
        " 4. **Quel est le dernier indice de la chaîne `Coding For All` ?**"
      ]
    },
    {
      "cell_type": "code",
      "metadata": {
        "id": "Q4CYyw1r8aD-"
      },
      "source": [
        ""
      ],
      "execution_count": null,
      "outputs": []
    },
    {
      "cell_type": "markdown",
      "metadata": {
        "id": "3D3Q3P628aD_"
      },
      "source": [
        "#### **Exercice 05:** \n",
        "> **Etant donné une chaine `__s__`, afficher une chaine faite des deux premiers et\n",
        "des deux derniers caractères.**"
      ]
    },
    {
      "cell_type": "code",
      "metadata": {
        "id": "LnbrdEnY8aEA"
      },
      "source": [
        ""
      ],
      "execution_count": null,
      "outputs": []
    },
    {
      "cell_type": "markdown",
      "metadata": {
        "id": "vLipzQ2T8aEA"
      },
      "source": [
        "#### **Exercice 06:** \n",
        "**Afficher les textes suivants à l’aide d’une seule instruction\n",
        "`print()`** :\n",
        "\n",
        "    un peu\n",
        "    beaucoup\n",
        "    passionnément\n",
        "\n",
        "    \"je t'aime\" dit-elle"
      ]
    },
    {
      "cell_type": "code",
      "metadata": {
        "id": "N8Y6B2i68aEC"
      },
      "source": [
        ""
      ],
      "execution_count": null,
      "outputs": []
    },
    {
      "cell_type": "markdown",
      "metadata": {
        "id": "77GI9ooS8aEC"
      },
      "source": [
        "#### **Exercice 07:** \n",
        "> **Écrivez un programme pour vérifier si la lettre 'e' est présente dans le mot 'Parapluie'.**"
      ]
    },
    {
      "cell_type": "code",
      "metadata": {
        "id": "FFdDrMKd8aEE"
      },
      "source": [
        ""
      ],
      "execution_count": null,
      "outputs": []
    },
    {
      "cell_type": "markdown",
      "metadata": {
        "id": "fQPHnxs18aEE"
      },
      "source": [
        "#### **Exercice 08:** \n",
        "> **Demandez à l'utilisateur de saisir son prénom et son nom de famille en réponse à une seule invite. Utilisez `split()` pour extraire les noms, puis affectez chaque nom à une variable différente.**"
      ]
    },
    {
      "cell_type": "code",
      "metadata": {
        "id": "TINJOu3g8aEG"
      },
      "source": [
        ""
      ],
      "execution_count": null,
      "outputs": []
    },
    {
      "cell_type": "markdown",
      "metadata": {
        "id": "cT6btvDz8aER"
      },
      "source": [
        "#### **Exercice 09:** \n",
        "> **Demandez à l'utilisateur de saisir un mot, puis imprimez la longueur de ce mot.**"
      ]
    },
    {
      "cell_type": "code",
      "metadata": {
        "id": "feE7z0Q18aET"
      },
      "source": [
        ""
      ],
      "execution_count": null,
      "outputs": []
    },
    {
      "cell_type": "markdown",
      "metadata": {
        "id": "QGb8rYYT8aET"
      },
      "source": [
        "#### **Exercice 10:** \n",
        "> **Écrivez un programme pour vérifier si le mot \"orange\" est présent dans l'expression \"Ceci est du jus d'orange\".**"
      ]
    },
    {
      "cell_type": "code",
      "metadata": {
        "id": "uLC2XFSq8aEU"
      },
      "source": [
        ""
      ],
      "execution_count": null,
      "outputs": []
    },
    {
      "cell_type": "markdown",
      "metadata": {
        "id": "F4_j1vsN8aEU"
      },
      "source": [
        "#### **Exercice 11:** \n",
        "> **Ecrivez un programme pour trouver la première et la dernière occurrence de la lettre 'o' et du caractère ',' dans \"Hello, World\".**"
      ]
    },
    {
      "cell_type": "code",
      "metadata": {
        "id": "GAMvzqzX8aEV"
      },
      "source": [
        ""
      ],
      "execution_count": null,
      "outputs": []
    },
    {
      "cell_type": "markdown",
      "metadata": {
        "id": "r_CQjIqd8aEW"
      },
      "source": [
        "#### **Exercice 12:** \n",
        "> **Écrivez un programme qui prend votre nom complet en entrée et affiche les abréviations du prénom et du second prénom, sauf le nom de famille qui est affiché tel quel. Par exemple, si votre nom est `Robert Brett Roser`, le résultat devrait être `R.B.Roser`.**"
      ]
    },
    {
      "cell_type": "code",
      "metadata": {
        "id": "NNWynb7Y8aEW"
      },
      "source": [
        ""
      ],
      "execution_count": null,
      "outputs": []
    },
    {
      "cell_type": "markdown",
      "metadata": {
        "id": "2DkugJeo8aEW"
      },
      "source": [
        "#### **Exercice 13:** \n",
        "> **Écrivez un programme pour trouver le plus grand et le plus petit mot dans la chaîne \"Ceci est un parapluie\". "
      ]
    },
    {
      "cell_type": "code",
      "metadata": {
        "id": "NxVgnPk-8aEW"
      },
      "source": [
        ""
      ],
      "execution_count": null,
      "outputs": []
    },
    {
      "cell_type": "markdown",
      "metadata": {
        "id": "BOXwh7TP8aEW"
      },
      "source": [
        "#### **Exercice 14:** \n",
        "> **Écrivez un programme pour créer une nouvelle chaîne de caractères avec le mot `le` supprimé dans la phrase `C'est le lion dans la cage`.**"
      ]
    },
    {
      "cell_type": "code",
      "metadata": {
        "id": "EDkYOKMb8aEX"
      },
      "source": [
        ""
      ],
      "execution_count": null,
      "outputs": []
    },
    {
      "cell_type": "markdown",
      "metadata": {
        "id": "yh9w0U9j8aEX"
      },
      "source": [
        "#### **Exercice 14:** \n",
        "> **Créez un programme qui demande à l'utilisateur d'entrer son nom et son âge. Imprimez un message qui lui est adressé et qui lui indique l'année où il aura 100 ans.**"
      ]
    },
    {
      "cell_type": "code",
      "metadata": {
        "id": "GvFyoDRa8aEY"
      },
      "source": [
        ""
      ],
      "execution_count": null,
      "outputs": []
    },
    {
      "cell_type": "markdown",
      "metadata": {
        "id": "2-Sc_vhb8aEY"
      },
      "source": [
        "#### **Exercice 15:** \n",
        "**Définissez la variable `x` comme la chaîne de caractères `x`= \"abcde\" .**\n",
        " 1. **Quelle est la valuer de 3*x?**\n",
        " 2. **Quelle est la valuer de x[1]?**\n",
        " 3. **Quelle est la valuer de x[-1]?**\n",
        " 4. **Quelle est la valuer de x[::2]?**"
      ]
    },
    {
      "cell_type": "code",
      "metadata": {
        "id": "E9WabTUf8aEZ"
      },
      "source": [
        ""
      ],
      "execution_count": null,
      "outputs": []
    },
    {
      "cell_type": "markdown",
      "metadata": {
        "id": "sFtnj29L8aEa"
      },
      "source": [
        "#### **Exercice 16:** \n",
        ">**Créez une chaîne unique contenant 5 copies de la chaîne 'abc'.**"
      ]
    },
    {
      "cell_type": "code",
      "metadata": {
        "id": "BJ12q8Dp8aEb"
      },
      "source": [
        ""
      ],
      "execution_count": null,
      "outputs": []
    },
    {
      "cell_type": "markdown",
      "metadata": {
        "id": "OmIC91BU8aEc"
      },
      "source": [
        "#### **Exercice 17:** \n",
        ">**Utilisez l'opérateur de multiplication pour créer une \"ligne\" de 50 tirets.**"
      ]
    },
    {
      "cell_type": "code",
      "metadata": {
        "id": "9ruTWtlx8aEe"
      },
      "source": [
        ""
      ],
      "execution_count": null,
      "outputs": []
    },
    {
      "cell_type": "markdown",
      "metadata": {
        "id": "Y8H6ln1_8aEi"
      },
      "source": [
        "#### **Exercice 18:** \n",
        ">**Ecrire un prgramme qui demande a l'utilisateur d'entrer la temperature en degres celsius et qui retourne la temperaure en degre Fahrenheit. Formule: (0°C × 9/5) + 32 = 32°F .**"
      ]
    },
    {
      "cell_type": "code",
      "metadata": {
        "id": "6WTyRFR08aEj"
      },
      "source": [
        ""
      ],
      "execution_count": null,
      "outputs": []
    },
    {
      "cell_type": "markdown",
      "metadata": {
        "id": "kt1YssPQ8aEj"
      },
      "source": [
        "#### **Exercice 19:** \n",
        ">**Ecrire un prgramme qui demande a l'utilisateur sa date de naissance et qui retourne votre age en 2050.**"
      ]
    },
    {
      "cell_type": "code",
      "metadata": {
        "id": "KSS-nelb8aEk"
      },
      "source": [
        ""
      ],
      "execution_count": null,
      "outputs": []
    },
    {
      "cell_type": "markdown",
      "metadata": {
        "id": "nFg9Kr2q8aEk"
      },
      "source": [
        "\n",
        "\n",
        "<center> <b> <span style=\"color:orange;\"> 🎉 FÉLICITATIONS ! 🎉 </span> </b></center>"
      ]
    }
  ]
}